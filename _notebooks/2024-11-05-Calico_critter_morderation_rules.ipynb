{
 "cells": [
  {
   "cell_type": "code",
   "execution_count": null,
   "metadata": {
    "vscode": {
     "languageId": "plaintext"
    }
   },
   "outputs": [],
   "source": [
    "---\n",
    "layout: post\n",
    "title: Moderator Rules\n",
    "description: Calico critter moderator rules!\n",
    "permalink: /moderation/calico_critter/\n",
    "toc: false\n",
    "comments: true\n",
    "author: Maryam A, Nora A, Kushi G, Joanna H\n",
    "---"
   ]
  },
  {
   "cell_type": "markdown",
   "metadata": {},
   "source": [
    "<h2> Rules are put in place to make this page a safe environment! </h2>\n",
    "\n",
    "<h3>\n",
    "  1. No cussing in the chats. <br>\n",
    "  2. Stay on topic, Calico Critters only! <br>\n",
    "  3. You have to be part of the DNHS Calico Critters club to join <br>\n",
    "  4. You must have valid reasoning for your votes <br>\n",
    "  5. Do not be toxic, negative, or attack others for their opinions. <br>\n",
    "</h3>"
   ]
  },
  {
   "cell_type": "markdown",
   "metadata": {},
   "source": [
    "## https://tinyurl.com/calicovote\n",
    "\n",
    "![qr code]({{site.baseurl}}/images/calicocritters/calicocode.png)\n"
   ]
  }
 ],
 "metadata": {
  "language_info": {
   "name": "python"
  }
 },
 "nbformat": 4,
 "nbformat_minor": 2
}
